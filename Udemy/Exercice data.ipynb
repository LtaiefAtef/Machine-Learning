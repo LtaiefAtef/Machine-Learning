{
 "cells": [
  {
   "cell_type": "markdown",
   "id": "f081d66d",
   "metadata": {},
   "source": [
    "## Exercice 1"
   ]
  },
  {
   "cell_type": "code",
   "execution_count": 1,
   "id": "84a90dc2",
   "metadata": {},
   "outputs": [
    {
     "name": "stdout",
     "output_type": "stream",
     "text": [
      "Donner Votre nom:atef\n",
      "Bienvenue atef\n"
     ]
    }
   ],
   "source": [
    "name = input(\"Donner Votre nom:\")\n",
    "print(f\"Bienvenue {name}\")"
   ]
  },
  {
   "cell_type": "markdown",
   "id": "4c668c74",
   "metadata": {},
   "source": [
    "## Exercice 2"
   ]
  },
  {
   "cell_type": "code",
   "execution_count": 2,
   "id": "7a5dff71",
   "metadata": {},
   "outputs": [
    {
     "name": "stdout",
     "output_type": "stream",
     "text": [
      "donner a :4\n",
      "donner b :12\n",
      "4 + 12 = 16\n"
     ]
    }
   ],
   "source": [
    "a = int(input(\"donner a :\"))\n",
    "b = int(input(\"donner b :\"))\n",
    "print(f\"{a} + {b} = {a+b}\")"
   ]
  },
  {
   "cell_type": "markdown",
   "id": "2d2dd2c6",
   "metadata": {},
   "source": [
    "## Exercice 3"
   ]
  },
  {
   "cell_type": "code",
   "execution_count": 3,
   "id": "0494a3b1",
   "metadata": {},
   "outputs": [
    {
     "name": "stdout",
     "output_type": "stream",
     "text": [
      "donner a:4\n",
      "donner b:12\n",
      "12\n"
     ]
    }
   ],
   "source": [
    "a = int(input(\"donner a:\"))\n",
    "b = int(input(\"donner b:\"))\n",
    "if(a > b):\n",
    "    print(a)\n",
    "else:\n",
    "    print(b)"
   ]
  },
  {
   "cell_type": "markdown",
   "id": "be9ac960",
   "metadata": {},
   "source": [
    "## Exrcice 4"
   ]
  },
  {
   "cell_type": "code",
   "execution_count": 4,
   "id": "e6694a69",
   "metadata": {},
   "outputs": [
    {
     "name": "stdout",
     "output_type": "stream",
     "text": [
      "1\n",
      "2\n",
      "3\n",
      "4\n",
      "5\n",
      "6\n",
      "7\n",
      "8\n",
      "9\n",
      "10\n",
      "11\n",
      "12\n",
      "13\n",
      "14\n",
      "15\n",
      "16\n",
      "17\n",
      "18\n",
      "19\n",
      "20\n",
      "21\n",
      "22\n",
      "23\n",
      "24\n",
      "25\n",
      "26\n",
      "27\n",
      "28\n",
      "29\n",
      "30\n",
      "31\n",
      "32\n",
      "33\n",
      "34\n",
      "35\n",
      "36\n",
      "37\n",
      "38\n",
      "39\n",
      "40\n",
      "41\n",
      "42\n",
      "43\n",
      "44\n",
      "45\n",
      "46\n",
      "47\n",
      "48\n",
      "49\n",
      "50\n",
      "51\n",
      "52\n",
      "53\n",
      "54\n",
      "55\n",
      "56\n",
      "57\n",
      "58\n",
      "59\n",
      "60\n",
      "61\n",
      "62\n",
      "63\n",
      "64\n",
      "65\n",
      "66\n",
      "67\n",
      "68\n",
      "69\n",
      "70\n",
      "71\n",
      "72\n",
      "73\n",
      "74\n",
      "75\n",
      "76\n",
      "77\n",
      "78\n",
      "79\n",
      "80\n",
      "81\n",
      "82\n",
      "83\n",
      "84\n",
      "85\n",
      "86\n",
      "87\n",
      "88\n",
      "89\n",
      "90\n",
      "91\n",
      "92\n",
      "93\n",
      "94\n",
      "95\n",
      "96\n",
      "97\n",
      "98\n",
      "99\n"
     ]
    }
   ],
   "source": [
    "i = 1\n",
    "while (i < 100):\n",
    "    print(i)\n",
    "    i+=1"
   ]
  },
  {
   "cell_type": "markdown",
   "id": "6ab2f758",
   "metadata": {},
   "source": [
    "## Exercice 5"
   ]
  },
  {
   "cell_type": "code",
   "execution_count": 5,
   "id": "d35947b8",
   "metadata": {},
   "outputs": [
    {
     "name": "stdout",
     "output_type": "stream",
     "text": [
      "Donner un entier4\n",
      "4 est un nombre pair\n"
     ]
    }
   ],
   "source": [
    "n = int(input(\"Donner un entier\"))\n",
    "if(n%2==0):\n",
    "    print(f\"{n} est un nombre pair\")\n",
    "else:\n",
    "    print(f\"{n} est un nombre impair\")"
   ]
  },
  {
   "cell_type": "markdown",
   "id": "dfe285bb",
   "metadata": {},
   "source": [
    "## Exercice 6"
   ]
  },
  {
   "cell_type": "code",
   "execution_count": 9,
   "id": "d5920785",
   "metadata": {},
   "outputs": [
    {
     "name": "stdout",
     "output_type": "stream",
     "text": [
      "Donner votre age:14\n",
      "Vous etes mineur !\n"
     ]
    }
   ],
   "source": [
    "age = int(input(\"Donner votre age:\"))\n",
    "if(age >= 18):\n",
    "    print(\"Vous etes majeur !\")\n",
    "else:\n",
    "    print(\"Vous etes mineur !\")"
   ]
  },
  {
   "cell_type": "markdown",
   "id": "62a276b1",
   "metadata": {},
   "source": [
    "## Exercice 7"
   ]
  },
  {
   "cell_type": "code",
   "execution_count": 10,
   "id": "8e30ead3",
   "metadata": {
    "scrolled": true
   },
   "outputs": [
    {
     "name": "stdout",
     "output_type": "stream",
     "text": [
      "Donner un entier:10\n",
      "10 * 0 = 0\n",
      "10 * 1 = 10\n",
      "10 * 2 = 20\n",
      "10 * 3 = 30\n",
      "10 * 4 = 40\n",
      "10 * 5 = 50\n",
      "10 * 6 = 60\n",
      "10 * 7 = 70\n",
      "10 * 8 = 80\n",
      "10 * 9 = 90\n"
     ]
    }
   ],
   "source": [
    "n = int(input(\"Donner un entier:\"))\n",
    "for i in range(10):\n",
    "    print(f\"{n} * {i} = {n*i}\")"
   ]
  },
  {
   "cell_type": "markdown",
   "id": "e3284045",
   "metadata": {},
   "source": [
    "## Exercice 8"
   ]
  },
  {
   "cell_type": "code",
   "execution_count": 11,
   "id": "08ce17f8",
   "metadata": {},
   "outputs": [
    {
     "name": "stdout",
     "output_type": "stream",
     "text": [
      "Donner un mot:hello\n",
      "h\n",
      "e\n",
      "l\n",
      "l\n",
      "o\n"
     ]
    }
   ],
   "source": [
    "word = input(\"Donner un mot:\")\n",
    "for i in word:\n",
    "    print(i)"
   ]
  },
  {
   "cell_type": "markdown",
   "id": "15dcdd18",
   "metadata": {},
   "source": [
    "## Exercice 9"
   ]
  },
  {
   "cell_type": "code",
   "execution_count": 12,
   "id": "c7ad7ea2",
   "metadata": {},
   "outputs": [
    {
     "name": "stdout",
     "output_type": "stream",
     "text": [
      "Donner un mot:hello\n",
      "Inverse de hello est olleh\n"
     ]
    }
   ],
   "source": [
    "word = input(\"Donner un mot:\")\n",
    "ch=\"\"\n",
    "for i in word:\n",
    "    ch = i+ch\n",
    "print(f\"Inverse de {word} est {ch}\")"
   ]
  },
  {
   "cell_type": "code",
   "execution_count": null,
   "id": "2f2014a1",
   "metadata": {},
   "outputs": [],
   "source": []
  }
 ],
 "metadata": {
  "kernelspec": {
   "display_name": "Python (sample_project_1_env)",
   "language": "python",
   "name": "sample_project_1_env"
  },
  "language_info": {
   "codemirror_mode": {
    "name": "ipython",
    "version": 3
   },
   "file_extension": ".py",
   "mimetype": "text/x-python",
   "name": "python",
   "nbconvert_exporter": "python",
   "pygments_lexer": "ipython3",
   "version": "3.6.9"
  }
 },
 "nbformat": 4,
 "nbformat_minor": 5
}
